{
  "nbformat": 4,
  "nbformat_minor": 0,
  "metadata": {
    "colab": {
      "provenance": [],
      "authorship_tag": "ABX9TyPBIme5Q7YTMPL5tV/BR9T2",
      "include_colab_link": true
    },
    "kernelspec": {
      "name": "python3",
      "display_name": "Python 3"
    },
    "language_info": {
      "name": "python"
    }
  },
  "cells": [
    {
      "cell_type": "markdown",
      "metadata": {
        "id": "view-in-github",
        "colab_type": "text"
      },
      "source": [
        "<a href=\"https://colab.research.google.com/github/priya4565/sample1/blob/main/Python_Basics_lab_exercises_cb_en_u4cse20151.ipynb\" target=\"_parent\"><img src=\"https://colab.research.google.com/assets/colab-badge.svg\" alt=\"Open In Colab\"/></a>"
      ]
    },
    {
      "cell_type": "markdown",
      "metadata": {
        "id": "FnCQreJF_JBw"
      },
      "source": [
        "Q1\n"
      ]
    },
    {
      "cell_type": "code",
      "metadata": {
        "colab": {
          "base_uri": "https://localhost:8080/"
        },
        "id": "uFokTyY8lCW6",
        "outputId": "965c16ec-e093-4c45-9f76-eb38d2728cd8"
      },
      "source": [
        "print(\"Twinkle, twinkle, little star,\\n\\t\\tHow I wonder what you are! \\n\\t\\t\\t\\tUp above the world so high,\\n\\t\\t\\t\\tLike a diamond in the sky.\\nTwinkle, twinkle, little star,\\n\\t\\tHow I wonder what you are!\")"
      ],
      "execution_count": null,
      "outputs": [
        {
          "output_type": "stream",
          "name": "stdout",
          "text": [
            "Twinkle, twinkle, little star,\n",
            "\t\tHow I wonder what you are! \n",
            "\t\t\t\tUp above the world so high,\n",
            "\t\t\t\tLike a diamond in the sky.\n",
            "Twinkle, twinkle, little star,\n",
            "\t\tHow I wonder what you are!\n"
          ]
        }
      ]
    },
    {
      "cell_type": "markdown",
      "metadata": {
        "id": "HrOIntP9_Rs6"
      },
      "source": [
        "Q2"
      ]
    },
    {
      "cell_type": "code",
      "metadata": {
        "colab": {
          "base_uri": "https://localhost:8080/"
        },
        "id": "rGW9uCeJmpWJ",
        "outputId": "4671129f-f05c-4657-b672-4e5f23548acd"
      },
      "source": [
        "pi=3.14\n",
        "r=int(input(\"Enter the value of radius: \"))\n",
        "area=pi*r*r\n",
        "print(\"Area of circle is %.2f\",area)"
      ],
      "execution_count": null,
      "outputs": [
        {
          "output_type": "stream",
          "name": "stdout",
          "text": [
            "Enter the value of radius: 5\n",
            "Area of circle is %.2f 78.5\n"
          ]
        }
      ]
    },
    {
      "cell_type": "markdown",
      "metadata": {
        "id": "kalZLVgI_vAg"
      },
      "source": [
        "Q3\n"
      ]
    },
    {
      "cell_type": "code",
      "metadata": {
        "colab": {
          "base_uri": "https://localhost:8080/"
        },
        "id": "Yu6OwD10pBxY",
        "outputId": "dfee1ff1-b3c6-4bc3-c9ff-4627260ddcd6"
      },
      "source": [
        "print('Name', 'Is', 'James',sep='**' )"
      ],
      "execution_count": null,
      "outputs": [
        {
          "output_type": "stream",
          "name": "stdout",
          "text": [
            "Name**Is**James\n"
          ]
        }
      ]
    },
    {
      "cell_type": "markdown",
      "metadata": {
        "id": "BXA9XYmO_w8h"
      },
      "source": [
        "Q4\n"
      ]
    },
    {
      "cell_type": "code",
      "metadata": {
        "colab": {
          "base_uri": "https://localhost:8080/"
        },
        "id": "UALt7NIE_wHY",
        "outputId": "83d7850a-a13a-460d-8796-e755dc8641e0"
      },
      "source": [
        "def change_fo(s1):\n",
        "  c = s1[0]\n",
        "  s1=s1.replace(c,'$')\n",
        "  s1=c+s1[1:]\n",
        "  return s1\n",
        "print(change_fo('restart'))"
      ],
      "execution_count": null,
      "outputs": [
        {
          "output_type": "stream",
          "name": "stdout",
          "text": [
            "resta$t\n"
          ]
        }
      ]
    },
    {
      "cell_type": "markdown",
      "metadata": {
        "id": "Gc_8V-RNCcR5"
      },
      "source": [
        "Q5"
      ]
    },
    {
      "cell_type": "code",
      "metadata": {
        "colab": {
          "base_uri": "https://localhost:8080/"
        },
        "id": "TLM4xeazCek4",
        "outputId": "fd918c4b-3004-40eb-8877-01c8e700e710"
      },
      "source": [
        "def swapmix(s1,s2):\n",
        "  new_s1=s2[:2]+s1[2:]\n",
        "  new_s2=s1[:2]+s2[2:]\n",
        "  final=new_s1+' '+new_s2\n",
        "  return final\n",
        "print(swapmix('abc','xyz'))"
      ],
      "execution_count": null,
      "outputs": [
        {
          "output_type": "stream",
          "name": "stdout",
          "text": [
            "xyc abz\n"
          ]
        }
      ]
    },
    {
      "cell_type": "markdown",
      "metadata": {
        "id": "YUNh0li2Dng4"
      },
      "source": [
        "Q6"
      ]
    },
    {
      "cell_type": "code",
      "metadata": {
        "id": "E7QONuqVDooJ",
        "colab": {
          "base_uri": "https://localhost:8080/"
        },
        "outputId": "3fd2bb5a-fab7-49a5-9ba7-32bd9240d57a"
      },
      "source": [
        "def swapmix(s1,s2):\n",
        "  new_s1=s2[:2]+s1[2:]\n",
        "  new_s2=s1[:2]+s2[2:]\n",
        "  final=new_s1+' '+new_s2\n",
        "  return final\n",
        "print(swapmix('abc','xyz'))"
      ],
      "execution_count": null,
      "outputs": [
        {
          "output_type": "stream",
          "name": "stdout",
          "text": [
            "xyc abz\n"
          ]
        }
      ]
    },
    {
      "cell_type": "markdown",
      "metadata": {
        "id": "cYvWid53GiY4"
      },
      "source": [
        "Q7"
      ]
    },
    {
      "cell_type": "code",
      "metadata": {
        "colab": {
          "base_uri": "https://localhost:8080/"
        },
        "id": "D-mo_3htGjfH",
        "outputId": "3a36b459-6a0b-483d-af10-4d2d9a953690"
      },
      "source": [
        "def remodd(s1):\n",
        "  new_s1=s1[::2]\n",
        "  s1=new_s1\n",
        "  return s1\n",
        "print(remodd('Hello'))"
      ],
      "execution_count": null,
      "outputs": [
        {
          "output_type": "stream",
          "name": "stdout",
          "text": [
            "Hlo\n"
          ]
        }
      ]
    },
    {
      "cell_type": "markdown",
      "metadata": {
        "id": "rBXSzasbH3Tr"
      },
      "source": [
        "Q8"
      ]
    },
    {
      "cell_type": "code",
      "metadata": {
        "colab": {
          "base_uri": "https://localhost:8080/"
        },
        "id": "fJO3nlTxH6HT",
        "outputId": "522a8517-1a74-4aee-ec09-57e027d99504"
      },
      "source": [
        "dict={'k1':'Python','k2':'lab'}\n",
        "dict['k3']='exercise'\n",
        "print(dict)"
      ],
      "execution_count": null,
      "outputs": [
        {
          "output_type": "stream",
          "name": "stdout",
          "text": [
            "{'k1': 'Python', 'k2': 'lab', 'k3': 'exercise'}\n"
          ]
        }
      ]
    },
    {
      "cell_type": "markdown",
      "metadata": {
        "id": "072pXOMYK0qF"
      },
      "source": [
        "Q9"
      ]
    },
    {
      "cell_type": "code",
      "metadata": {
        "colab": {
          "base_uri": "https://localhost:8080/"
        },
        "id": "nlSZ11ZYKzw5",
        "outputId": "4df3207a-5a87-4ac5-8eb7-c776d1a88e7d"
      },
      "source": [
        "dic1={1:10, 2:20} \n",
        "dic2={3:30, 4:40} \n",
        "dic3={5:50,6:60}\n",
        "dic4= {**dic1,** dic2,**dic3}\n",
        "print(dic4)"
      ],
      "execution_count": null,
      "outputs": [
        {
          "output_type": "stream",
          "name": "stdout",
          "text": [
            "{1: 10, 2: 20, 3: 30, 4: 40, 5: 50, 6: 60}\n"
          ]
        }
      ]
    },
    {
      "cell_type": "markdown",
      "metadata": {
        "id": "JxXx-VKPMFqo"
      },
      "source": [
        "Q10"
      ]
    },
    {
      "cell_type": "code",
      "metadata": {
        "colab": {
          "base_uri": "https://localhost:8080/"
        },
        "id": "YJ5feQqoMGzj",
        "outputId": "f89ed8d2-32b8-4c4e-bd90-3b011d2793a1"
      },
      "source": [
        "dic1={1: 10, 2: 20, 3: 30, 4: 40, 5: 50, 6: 60}\n",
        "print(2 in dic1)"
      ],
      "execution_count": null,
      "outputs": [
        {
          "output_type": "stream",
          "name": "stdout",
          "text": [
            "True\n"
          ]
        }
      ]
    },
    {
      "cell_type": "markdown",
      "metadata": {
        "id": "OEjd6mTXOcf0"
      },
      "source": [
        "Q11"
      ]
    },
    {
      "cell_type": "code",
      "metadata": {
        "colab": {
          "base_uri": "https://localhost:8080/"
        },
        "id": "LwxM74qSOeNJ",
        "outputId": "849bfab8-352f-4e03-f896-166dfaabb13d"
      },
      "source": [
        "vowels=('a','e','i','o','u')\n",
        "print(vowels[1])"
      ],
      "execution_count": null,
      "outputs": [
        {
          "output_type": "stream",
          "name": "stdout",
          "text": [
            "e\n"
          ]
        }
      ]
    },
    {
      "cell_type": "markdown",
      "metadata": {
        "id": "oDf3Y1McO8dn"
      },
      "source": [
        "Q12"
      ]
    },
    {
      "cell_type": "code",
      "metadata": {
        "colab": {
          "base_uri": "https://localhost:8080/"
        },
        "id": "o6MwMFfdO7gI",
        "outputId": "b2f0dc40-cd01-4eec-c0aa-1582d7ddfe0e"
      },
      "source": [
        "vowels=('a','e','i','o','u')\n",
        "first=vowels[3]\n",
        "last=vowels[-4]\n",
        "print(first+' '+last)"
      ],
      "execution_count": null,
      "outputs": [
        {
          "output_type": "stream",
          "name": "stdout",
          "text": [
            "o e\n"
          ]
        }
      ]
    },
    {
      "cell_type": "markdown",
      "metadata": {
        "id": "4gfXX3NePvsW"
      },
      "source": [
        "Q13"
      ]
    },
    {
      "cell_type": "code",
      "metadata": {
        "colab": {
          "base_uri": "https://localhost:8080/"
        },
        "id": "cHeJ4B9FPww7",
        "outputId": "b5e35b2a-6dc4-41a3-e572-695fd1a6e79c"
      },
      "source": [
        "daylist=['Sun','Mon','Tue','Wed','Thu','Fri','Sat']\n",
        "daytuple=tuple(daylist)\n",
        "print(daytuple)"
      ],
      "execution_count": null,
      "outputs": [
        {
          "output_type": "stream",
          "name": "stdout",
          "text": [
            "('Sun', 'Mon', 'Tue', 'Wed', 'Thu', 'Fri', 'Sat')\n"
          ]
        }
      ]
    },
    {
      "cell_type": "markdown",
      "metadata": {
        "id": "Cyj902JRQwaw"
      },
      "source": [
        "Q14"
      ]
    },
    {
      "cell_type": "code",
      "metadata": {
        "colab": {
          "base_uri": "https://localhost:8080/"
        },
        "id": "-5s1rDKiQxZK",
        "outputId": "072797a7-c2a7-4ce7-d2c8-43130ca2e3ca"
      },
      "source": [
        "def avg(num):\n",
        "  x=[sum(x)/len(x) for x in zip(*num)]\n",
        "  return x\n",
        "num=((10, 10, 10, 12), (30, 45, 56, 45), (81, 80, 39, 32), (1, 2, 3, 4))\n",
        "print(avg(num))"
      ],
      "execution_count": null,
      "outputs": [
        {
          "output_type": "stream",
          "name": "stdout",
          "text": [
            "[30.5, 34.25, 27.0, 23.25]\n"
          ]
        }
      ]
    },
    {
      "cell_type": "markdown",
      "metadata": {
        "id": "pBv8Ee_aTAmn"
      },
      "source": [
        "Q15"
      ]
    },
    {
      "cell_type": "code",
      "metadata": {
        "colab": {
          "base_uri": "https://localhost:8080/"
        },
        "id": "x8Ev6BNRTBej",
        "outputId": "dad7dd30-1e84-4157-9743-693bd73f709b"
      },
      "source": [
        "colour=(('Red', 'White', 'Blue'), ('Green', 'Pink', 'Purple'), ('Orange', 'Yellow', 'Lime'))\n",
        "if(any('White' in i for i in colour)):\n",
        "  print('True')\n",
        "else:\n",
        "  print('False')\n",
        "if(any('Olive' in i for i in colour)):\n",
        "  print('True')\n",
        "else:\n",
        "  print('False')"
      ],
      "execution_count": null,
      "outputs": [
        {
          "output_type": "stream",
          "name": "stdout",
          "text": [
            "True\n",
            "False\n"
          ]
        }
      ]
    },
    {
      "cell_type": "markdown",
      "metadata": {
        "id": "8IE5n8ikUHUE"
      },
      "source": [
        "Q16"
      ]
    },
    {
      "cell_type": "code",
      "metadata": {
        "colab": {
          "base_uri": "https://localhost:8080/"
        },
        "id": "hBQ53wWsUIlb",
        "outputId": "b9204a2d-87f9-4453-cb9a-6248a33d0a40"
      },
      "source": [
        "set1={1,2,3,7,6,5}\n",
        "set1.add(4)\n",
        "print(set1)"
      ],
      "execution_count": null,
      "outputs": [
        {
          "output_type": "stream",
          "name": "stdout",
          "text": [
            "{1, 2, 3, 4, 5, 6, 7}\n"
          ]
        }
      ]
    },
    {
      "cell_type": "markdown",
      "metadata": {
        "id": "snRHp7yTU_tb"
      },
      "source": [
        "Q17"
      ]
    },
    {
      "cell_type": "code",
      "metadata": {
        "colab": {
          "base_uri": "https://localhost:8080/"
        },
        "id": "BYA86AHKVBMg",
        "outputId": "8a50f665-30b4-4e7b-c633-3364487bc19d"
      },
      "source": [
        "set1={1,2,3,7,6,5}\n",
        "set1.remove(7)\n",
        "print(set1)"
      ],
      "execution_count": null,
      "outputs": [
        {
          "output_type": "stream",
          "name": "stdout",
          "text": [
            "{1, 2, 3, 5, 6}\n"
          ]
        }
      ]
    },
    {
      "cell_type": "markdown",
      "metadata": {
        "id": "_CKmyKkEVLKD"
      },
      "source": [
        "Q18"
      ]
    },
    {
      "cell_type": "code",
      "metadata": {
        "colab": {
          "base_uri": "https://localhost:8080/"
        },
        "id": "sREZoY0OVMDw",
        "outputId": "0084770d-731c-413a-9c65-55aebcbcd44e"
      },
      "source": [
        "set1={1,2,3,7,6,5}\n",
        "set2={1,3,4,6,8,9}\n",
        "set3={2,3,4,5,6,7}\n",
        "print(set1.intersection(set2,set3))"
      ],
      "execution_count": null,
      "outputs": [
        {
          "output_type": "stream",
          "name": "stdout",
          "text": [
            "{3, 6}\n"
          ]
        }
      ]
    },
    {
      "cell_type": "markdown",
      "metadata": {
        "id": "WjeD5MsXWZ3m"
      },
      "source": [
        "Q19"
      ]
    },
    {
      "cell_type": "code",
      "metadata": {
        "colab": {
          "base_uri": "https://localhost:8080/"
        },
        "id": "OEmkjUDuWfVB",
        "outputId": "5483f138-f174-4b1a-87aa-df128386739f"
      },
      "source": [
        "set1={1,2,3,7,6,5}\n",
        "set2={1,3,4,6,8,9}\n",
        "print(set1-set2)\n",
        "print(set2-set1)"
      ],
      "execution_count": null,
      "outputs": [
        {
          "output_type": "stream",
          "name": "stdout",
          "text": [
            "{2, 5, 7}\n",
            "{8, 9, 4}\n"
          ]
        }
      ]
    },
    {
      "cell_type": "markdown",
      "metadata": {
        "id": "1DzPkqC4Wvdw"
      },
      "source": [
        "Q20"
      ]
    },
    {
      "cell_type": "code",
      "metadata": {
        "colab": {
          "base_uri": "https://localhost:8080/"
        },
        "id": "ZZUGsYKyWwju",
        "outputId": "dd4320d2-4068-432d-a877-cd3d8039ce68"
      },
      "source": [
        "def Reverse(daylist):\n",
        "  daylist.reverse()\n",
        "  return daylist\n",
        "daylist=['Sun','Mon','Tue','Wed','Thu','Fri','Sat']\n",
        "print(Reverse(daylist))"
      ],
      "execution_count": null,
      "outputs": [
        {
          "output_type": "stream",
          "name": "stdout",
          "text": [
            "['Sat', 'Fri', 'Thu', 'Wed', 'Tue', 'Mon', 'Sun']\n"
          ]
        }
      ]
    },
    {
      "cell_type": "markdown",
      "metadata": {
        "id": "Bu-QzZhkXnXP"
      },
      "source": [
        "Q21"
      ]
    },
    {
      "cell_type": "code",
      "metadata": {
        "colab": {
          "base_uri": "https://localhost:8080/"
        },
        "id": "5j1nFfvXXohH",
        "outputId": "a421ebfa-9530-4f91-d7d7-8b8eb35882b3"
      },
      "source": [
        "s = ['Red', 'Green', 'White', 'Black', 'Pink', 'Yellow']\n",
        "s = [x for (i, x) in enumerate(s) if i not in (0, 4, 5)]\n",
        "print(s)"
      ],
      "execution_count": null,
      "outputs": [
        {
          "output_type": "stream",
          "name": "stdout",
          "text": [
            "['Green', 'White', 'Black']\n"
          ]
        }
      ]
    },
    {
      "cell_type": "markdown",
      "metadata": {
        "id": "H7T_M9bWZmr8"
      },
      "source": [
        "Q22"
      ]
    },
    {
      "cell_type": "code",
      "metadata": {
        "colab": {
          "base_uri": "https://localhost:8080/"
        },
        "id": "5DkfWbqJZnof",
        "outputId": "d247533a-7336-4cc2-ba65-21a2560c6be3"
      },
      "source": [
        "num = [23, 34, 'hello', 32, 56] \n",
        "print(len(num))"
      ],
      "execution_count": null,
      "outputs": [
        {
          "output_type": "stream",
          "name": "stdout",
          "text": [
            "5\n"
          ]
        }
      ]
    },
    {
      "cell_type": "markdown",
      "metadata": {
        "id": "FSRutoz1Z4tk"
      },
      "source": [
        "Q23"
      ]
    },
    {
      "cell_type": "code",
      "metadata": {
        "colab": {
          "base_uri": "https://localhost:8080/"
        },
        "id": "1NDlhd7XZ5iR",
        "outputId": "d2a947ba-3e53-4c9f-ec6f-681add6f76e0"
      },
      "source": [
        "def Reverse(daylist):\n",
        "  daylist.reverse()\n",
        "  return daylist\n",
        "daylist=[0,1,2,3,4,5,6]\n",
        "print(Reverse(daylist))"
      ],
      "execution_count": null,
      "outputs": [
        {
          "output_type": "stream",
          "name": "stdout",
          "text": [
            "[6, 5, 4, 3, 2, 1, 0]\n"
          ]
        }
      ]
    },
    {
      "cell_type": "markdown",
      "metadata": {
        "id": "N-FlH5N6aJNX"
      },
      "source": [
        "Q24"
      ]
    },
    {
      "cell_type": "code",
      "metadata": {
        "colab": {
          "base_uri": "https://localhost:8080/"
        },
        "id": "d1M3jUjVaKCr",
        "outputId": "cb97edc2-3bed-4405-b02d-a05c5e98e011"
      },
      "source": [
        "import numpy as np\n",
        "  \n",
        "arr1 = [1,5,9]\n",
        "print (np.square(arr1))"
      ],
      "execution_count": null,
      "outputs": [
        {
          "output_type": "stream",
          "name": "stdout",
          "text": [
            "[ 1 25 81]\n"
          ]
        }
      ]
    },
    {
      "cell_type": "markdown",
      "metadata": {
        "id": "ZXDNKmpcaxhb"
      },
      "source": [
        "Q25"
      ]
    },
    {
      "cell_type": "code",
      "metadata": {
        "colab": {
          "base_uri": "https://localhost:8080/"
        },
        "id": "2ixTWQDeayjT",
        "outputId": "791d672c-c46c-4b96-b5ae-ec547a362364"
      },
      "source": [
        "num = [23,45,67,8,9] \n",
        "num.append('study')\n",
        "print(num)"
      ],
      "execution_count": null,
      "outputs": [
        {
          "output_type": "stream",
          "name": "stdout",
          "text": [
            "[23, 45, 67, 8, 9, 'study']\n"
          ]
        }
      ]
    },
    {
      "cell_type": "markdown",
      "metadata": {
        "id": "_LuaNS5gppP9"
      },
      "source": [
        "Q26"
      ]
    },
    {
      "cell_type": "code",
      "metadata": {
        "colab": {
          "base_uri": "https://localhost:8080/"
        },
        "id": "IkMzizFFpqMC",
        "outputId": "012d4096-ab1f-47ec-bd34-d4cb82d191b6"
      },
      "source": [
        "num = [23,45,67,8,9]\n",
        "total=sum(num)\n",
        "print(total)"
      ],
      "execution_count": null,
      "outputs": [
        {
          "output_type": "stream",
          "name": "stdout",
          "text": [
            "152\n"
          ]
        }
      ]
    },
    {
      "cell_type": "markdown",
      "metadata": {
        "id": "ZnuOEX9bqCP_"
      },
      "source": [
        "Q27"
      ]
    },
    {
      "cell_type": "code",
      "metadata": {
        "colab": {
          "base_uri": "https://localhost:8080/"
        },
        "id": "OcLLemKRqDFv",
        "outputId": "f4191de2-f491-4a5a-fc30-99a0016882a1"
      },
      "source": [
        "num = [23,45,67,8,9]\n",
        "large=max(num)\n",
        "print(large)"
      ],
      "execution_count": null,
      "outputs": [
        {
          "output_type": "stream",
          "name": "stdout",
          "text": [
            "67\n"
          ]
        }
      ]
    },
    {
      "cell_type": "markdown",
      "metadata": {
        "id": "9K5XrvhxqeFd"
      },
      "source": [
        "Q28"
      ]
    },
    {
      "cell_type": "code",
      "metadata": {
        "colab": {
          "base_uri": "https://localhost:8080/"
        },
        "id": "2P6_S8CpqfBy",
        "outputId": "ed6fa918-b275-4a39-81fe-55d9686ca727"
      },
      "source": [
        "x=5\n",
        "y=2\n",
        "print(x+y)\n",
        "print(x-y)\n",
        "print(x*y)\n",
        "print(x/y)\n",
        "print(x%y)\n",
        "print(x**y)\n",
        "print(x//y)"
      ],
      "execution_count": null,
      "outputs": [
        {
          "output_type": "stream",
          "name": "stdout",
          "text": [
            "7\n",
            "3\n",
            "10\n",
            "2.5\n",
            "1\n",
            "25\n",
            "2\n"
          ]
        }
      ]
    },
    {
      "cell_type": "markdown",
      "metadata": {
        "id": "EEIrgQJtqzyk"
      },
      "source": [
        "Q29"
      ]
    },
    {
      "cell_type": "code",
      "metadata": {
        "colab": {
          "base_uri": "https://localhost:8080/"
        },
        "id": "1me0ghtKq05v",
        "outputId": "fb03ace6-c0c9-4eb9-d5f3-18bf9efeb77c"
      },
      "source": [
        "x=[1,2,3]\n",
        "y=[4,5,6]\n",
        "add=[]\n",
        "sub=[]\n",
        "mul=[]\n",
        "div=[]\n",
        "mod=[]\n",
        "expo=[]\n",
        "floor=[]\n",
        "for i in range(3):\n",
        "  add.append(x[i]+y[i])\n",
        "  sub.append(x[i]-y[i])\n",
        "  mul.append(x[i]*y[i])\n",
        "  div.append(x[i]/y[i])\n",
        "  mod.append(x[i]%y[i])\n",
        "  expo.append(x[i]**y[i])\n",
        "  floor.append(x[i]//y[i])\n",
        "print(add)\n",
        "print(sub)\n",
        "print(mul)\n",
        "print(div)\n",
        "print(mod)\n",
        "print(expo)\n",
        "print(floor)\n"
      ],
      "execution_count": null,
      "outputs": [
        {
          "output_type": "stream",
          "name": "stdout",
          "text": [
            "[5, 7, 9]\n",
            "[-3, -3, -3]\n",
            "[4, 10, 18]\n",
            "[0.25, 0.4, 0.5]\n",
            "[1, 2, 3]\n",
            "[1, 32, 729]\n",
            "[0, 0, 0]\n"
          ]
        }
      ]
    },
    {
      "cell_type": "markdown",
      "metadata": {
        "id": "weOmjVXdvNok"
      },
      "source": [
        "Q30"
      ]
    },
    {
      "cell_type": "code",
      "metadata": {
        "colab": {
          "base_uri": "https://localhost:8080/"
        },
        "id": "YqM6oQegvOoD",
        "outputId": "75abfe2c-8a91-4c33-8165-74f6792e5ba4"
      },
      "source": [
        "n=(7,5,16,8,4)\n",
        "large=max(n)\n",
        "small=min(n)\n",
        "print(large)\n",
        "print(small)"
      ],
      "execution_count": null,
      "outputs": [
        {
          "output_type": "stream",
          "name": "stdout",
          "text": [
            "16\n",
            "4\n"
          ]
        }
      ]
    }
  ]
}