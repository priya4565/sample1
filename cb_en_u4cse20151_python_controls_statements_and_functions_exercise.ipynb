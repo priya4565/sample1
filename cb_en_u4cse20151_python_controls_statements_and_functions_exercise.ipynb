{
  "nbformat": 4,
  "nbformat_minor": 0,
  "metadata": {
    "colab": {
      "name": "cb.en.u4cse20151-python controls and loops exercise.ipynb",
      "provenance": []
    },
    "kernelspec": {
      "name": "python3",
      "display_name": "Python 3"
    },
    "language_info": {
      "name": "python"
    }
  },
  "cells": [
    {
      "cell_type": "markdown",
      "source": [
        "Q1"
      ],
      "metadata": {
        "id": "kdDKTKfg9kul"
      }
    },
    {
      "cell_type": "code",
      "execution_count": null,
      "metadata": {
        "colab": {
          "base_uri": "https://localhost:8080/"
        },
        "id": "V3GKzRZa5s8P",
        "outputId": "a90760cf-c3c1-40a2-d01a-deeeb819ff60"
      },
      "outputs": [
        {
          "output_type": "stream",
          "name": "stdout",
          "text": [
            "* \r\n",
            "* * \r\n",
            "* * * \r\n",
            "* * * * \r\n",
            "* * * * * \r\n",
            "* * * * \r\n",
            "* * * \r\n",
            "* * \r\n",
            "* \r\n",
            "\r\n"
          ]
        }
      ],
      "source": [
        "def pattern(rows):\n",
        "  for i in range(0,rows):\n",
        "    for j in range(0,i+1):\n",
        "      print(\"*\",end=\" \")\n",
        "    print(\"\\r\")\n",
        "  for i in range(rows , 0, -1):\n",
        "    for j in range(0,i-1):\n",
        "      print(\"*\",end=\" \")\n",
        "    print(\"\\r\")\n",
        "n=5\n",
        "pattern(n)\n"
      ]
    },
    {
      "cell_type": "markdown",
      "source": [
        "Q2"
      ],
      "metadata": {
        "id": "BuT7wdjw9m1E"
      }
    },
    {
      "cell_type": "code",
      "source": [
        "def rev(str):\n",
        "  s=\"\"\n",
        "  for i in str:\n",
        "    s=i+s\n",
        "  return s\n",
        "str=\"Python\"\n",
        "print(\"Original string:\",str)\n",
        "print(\"Reversed string:\",rev(str))"
      ],
      "metadata": {
        "colab": {
          "base_uri": "https://localhost:8080/"
        },
        "id": "V-p9hZDu9nnV",
        "outputId": "61e07fd2-1431-401a-fe5e-261c7c439d5e"
      },
      "execution_count": null,
      "outputs": [
        {
          "output_type": "stream",
          "name": "stdout",
          "text": [
            "Original string: Python\n",
            "Reversed string: nohtyP\n"
          ]
        }
      ]
    },
    {
      "cell_type": "markdown",
      "source": [
        "Q3"
      ],
      "metadata": {
        "id": "kBW8lg6-_7ZF"
      }
    },
    {
      "cell_type": "code",
      "source": [
        "for i in range(0,6):\n",
        "  if(i!=3 and i!=6):\n",
        "    print(i,end=\" \")\n"
      ],
      "metadata": {
        "colab": {
          "base_uri": "https://localhost:8080/"
        },
        "id": "-fVTBl47_8dt",
        "outputId": "96b7d6d6-78b0-4ceb-d249-2089fb796a6d"
      },
      "execution_count": null,
      "outputs": [
        {
          "output_type": "stream",
          "name": "stdout",
          "text": [
            "0 1 2 4 5 "
          ]
        }
      ]
    },
    {
      "cell_type": "markdown",
      "source": [
        "Q4"
      ],
      "metadata": {
        "id": "n_9fjoGZCupO"
      }
    },
    {
      "cell_type": "code",
      "source": [
        "for i in range(1,50):\n",
        "  if(i%3==0 and i%5==0):\n",
        "    print(\"FizzBuzz\")\n",
        "  elif(i%3==0 and i%5!=0):\n",
        "    print(\"Buzz\")\n",
        "  elif(i%5==0 and i%3!=0):\n",
        "    print(\"Fizz\")\n",
        "  else:\n",
        "    print(i)\n",
        "  print(\"\\r\")"
      ],
      "metadata": {
        "colab": {
          "base_uri": "https://localhost:8080/"
        },
        "id": "eVyoZw0CCvjR",
        "outputId": "69bb2422-750a-4b04-9872-0060ed9b41ec"
      },
      "execution_count": null,
      "outputs": [
        {
          "output_type": "stream",
          "name": "stdout",
          "text": [
            "1\n",
            "\r\n",
            "2\n",
            "\r\n",
            "Buzz\n",
            "\r\n",
            "4\n",
            "\r\n",
            "Fizz\n",
            "\r\n",
            "Buzz\n",
            "\r\n",
            "7\n",
            "\r\n",
            "8\n",
            "\r\n",
            "Buzz\n",
            "\r\n",
            "Fizz\n",
            "\r\n",
            "11\n",
            "\r\n",
            "Buzz\n",
            "\r\n",
            "13\n",
            "\r\n",
            "14\n",
            "\r\n",
            "FizzBuzz\n",
            "\r\n",
            "16\n",
            "\r\n",
            "17\n",
            "\r\n",
            "Buzz\n",
            "\r\n",
            "19\n",
            "\r\n",
            "Fizz\n",
            "\r\n",
            "Buzz\n",
            "\r\n",
            "22\n",
            "\r\n",
            "23\n",
            "\r\n",
            "Buzz\n",
            "\r\n",
            "Fizz\n",
            "\r\n",
            "26\n",
            "\r\n",
            "Buzz\n",
            "\r\n",
            "28\n",
            "\r\n",
            "29\n",
            "\r\n",
            "FizzBuzz\n",
            "\r\n",
            "31\n",
            "\r\n",
            "32\n",
            "\r\n",
            "Buzz\n",
            "\r\n",
            "34\n",
            "\r\n",
            "Fizz\n",
            "\r\n",
            "Buzz\n",
            "\r\n",
            "37\n",
            "\r\n",
            "38\n",
            "\r\n",
            "Buzz\n",
            "\r\n",
            "Fizz\n",
            "\r\n",
            "41\n",
            "\r\n",
            "Buzz\n",
            "\r\n",
            "43\n",
            "\r\n",
            "44\n",
            "\r\n",
            "FizzBuzz\n",
            "\r\n",
            "46\n",
            "\r\n",
            "47\n",
            "\r\n",
            "Buzz\n",
            "\r\n",
            "49\n",
            "\r\n"
          ]
        }
      ]
    },
    {
      "cell_type": "markdown",
      "source": [
        "Q5"
      ],
      "metadata": {
        "id": "ZRx9-U8mDxZM"
      }
    },
    {
      "cell_type": "code",
      "source": [
        "for i in range(0,3):\n",
        "  for j in range(0,4):\n",
        "    print(i*j,end=\" \")\n",
        "  print(\"\\r\")\n"
      ],
      "metadata": {
        "colab": {
          "base_uri": "https://localhost:8080/"
        },
        "id": "dgvn_8JFDz-t",
        "outputId": "324d11b3-abd6-46b1-f0e6-8490f1c4a01e"
      },
      "execution_count": null,
      "outputs": [
        {
          "output_type": "stream",
          "name": "stdout",
          "text": [
            "0 0 0 0 \r\n",
            "0 1 2 3 \r\n",
            "0 2 4 6 \r\n"
          ]
        }
      ]
    },
    {
      "cell_type": "markdown",
      "source": [
        "Q6"
      ],
      "metadata": {
        "id": "tWFsbFx_EoDP"
      }
    },
    {
      "cell_type": "code",
      "source": [
        "no=int(input(\"Enter number:\"))\n",
        "r=0\n",
        "while(no>0):\n",
        "  rem=no%10\n",
        "  r=(r*10)+rem\n",
        "  no=no//10\n",
        "print(\"Reverse number:\",r)"
      ],
      "metadata": {
        "colab": {
          "base_uri": "https://localhost:8080/"
        },
        "id": "e1fuSlgdErIn",
        "outputId": "51b3659a-59ce-4186-f4a7-8ae59c0d35b0"
      },
      "execution_count": null,
      "outputs": [
        {
          "output_type": "stream",
          "name": "stdout",
          "text": [
            "Enter number:125\n",
            "Reverse number: 521\n"
          ]
        }
      ]
    },
    {
      "cell_type": "markdown",
      "source": [
        "Q7"
      ],
      "metadata": {
        "id": "XHBZW2ZRG4ON"
      }
    },
    {
      "cell_type": "code",
      "source": [
        "def natural(n):\n",
        "  while(n>0):\n",
        "    print(n,end=\" \")\n",
        "    n-=1\n",
        "\n",
        "natural(25)"
      ],
      "metadata": {
        "id": "26_9FOk7G5bB",
        "colab": {
          "base_uri": "https://localhost:8080/"
        },
        "outputId": "2d565dad-3efd-4504-d111-91693d56f372"
      },
      "execution_count": 3,
      "outputs": [
        {
          "output_type": "stream",
          "name": "stdout",
          "text": [
            "25 24 23 22 21 20 19 18 17 16 15 14 13 12 11 10 9 8 7 6 5 4 3 2 1 "
          ]
        }
      ]
    },
    {
      "cell_type": "markdown",
      "source": [
        "Q8"
      ],
      "metadata": {
        "id": "2ZBM4Ochafef"
      }
    },
    {
      "cell_type": "code",
      "source": [
        "sq_list=[]\n",
        "for i in range(1,7):\n",
        "  sq_list.append(i**2)\n",
        "\n",
        "print(sq_list)"
      ],
      "metadata": {
        "colab": {
          "base_uri": "https://localhost:8080/"
        },
        "id": "Jvl4mReaagV3",
        "outputId": "ffbde069-dab7-4c98-d428-fbdc5d060844"
      },
      "execution_count": 5,
      "outputs": [
        {
          "output_type": "stream",
          "name": "stdout",
          "text": [
            "[1, 4, 9, 16, 25, 36]\n"
          ]
        }
      ]
    },
    {
      "cell_type": "markdown",
      "source": [
        "Q9"
      ],
      "metadata": {
        "id": "ALXK-PrLbdC4"
      }
    },
    {
      "cell_type": "code",
      "source": [
        "nat=[]\n",
        "i=1\n",
        "while(i<=10):\n",
        "  print(i,end=\" \")\n",
        "  nat.append(i)\n",
        "  i+=1\n",
        "\n",
        "print(\"\\n\",nat)"
      ],
      "metadata": {
        "colab": {
          "base_uri": "https://localhost:8080/"
        },
        "id": "k6Jms7N4bd0U",
        "outputId": "2639d462-16f2-468d-c55e-e414778fa5ca"
      },
      "execution_count": 7,
      "outputs": [
        {
          "output_type": "stream",
          "name": "stdout",
          "text": [
            "1 2 3 4 5 6 7 8 9 10 \n",
            " [1, 2, 3, 4, 5, 6, 7, 8, 9, 10]\n"
          ]
        }
      ]
    },
    {
      "cell_type": "markdown",
      "source": [
        "Q10"
      ],
      "metadata": {
        "id": "Q-qzS4Xnb6-_"
      }
    },
    {
      "cell_type": "code",
      "source": [
        "i=1\n",
        "while(i<=5):\n",
        "  s=float(input(\"Enter score b/w 0.0 and 1.0:\"))\n",
        "  if(s<=0.0 or s>=1.0):\n",
        "    print(\"Bad score\")\n",
        "  elif(s<1.0 and s>=0.9):\n",
        "    print(\"A\")\n",
        "  elif(s<0.9 and s>=0.8):\n",
        "    print(\"B\")\n",
        "  elif(s<0.8 and s>=0.7):\n",
        "    print(\"C\")\n",
        "  elif(s<0.7 and s>=0.6):\n",
        "    print(\"D\")\n",
        "  else:\n",
        "    print(\"E\")\n",
        "  i+=1"
      ],
      "metadata": {
        "colab": {
          "base_uri": "https://localhost:8080/"
        },
        "id": "Qxqgkz21b7tB",
        "outputId": "92cf6999-e8ae-4f62-a0e3-77100da5d6c0"
      },
      "execution_count": 10,
      "outputs": [
        {
          "output_type": "stream",
          "name": "stdout",
          "text": [
            "Enter score b/w 0.0 and 1.0:0.95\n",
            "A\n",
            "Enter score b/w 0.0 and 1.0:41\n",
            "Bad score\n",
            "Enter score b/w 0.0 and 1.0:10.0\n",
            "Bad score\n",
            "Enter score b/w 0.0 and 1.0:0.75\n",
            "C\n",
            "Enter score b/w 0.0 and 1.0:0.5\n",
            "E\n"
          ]
        }
      ]
    },
    {
      "cell_type": "markdown",
      "source": [
        "Q11"
      ],
      "metadata": {
        "id": "qAZ5VLF0ejL0"
      }
    },
    {
      "cell_type": "code",
      "source": [
        "s = 'X-DSPAM-Confidence:0.8475' \n",
        "x=s.find(\":\")\n",
        "string=s[x+1:]\n",
        "print(float(string))\n"
      ],
      "metadata": {
        "colab": {
          "base_uri": "https://localhost:8080/"
        },
        "id": "tbf0I1TdelaR",
        "outputId": "2d480226-535f-4513-cf26-de5f2f25c93d"
      },
      "execution_count": 11,
      "outputs": [
        {
          "output_type": "stream",
          "name": "stdout",
          "text": [
            "18\n",
            "0.8475\n"
          ]
        }
      ]
    },
    {
      "cell_type": "markdown",
      "source": [
        "Q12"
      ],
      "metadata": {
        "id": "Rxmv6zVPn-0k"
      }
    },
    {
      "cell_type": "code",
      "source": [
        "def grade(s):\n",
        "  if(s<=0.0 or s>=1.0):\n",
        "    return \"Bad score\"\n",
        "  elif(s<1.0 and s>=0.9):\n",
        "    return \"A\"\n",
        "  elif(s<0.9 and s>=0.8):\n",
        "    return \"B\"\n",
        "  elif(s<0.8 and s>=0.7):\n",
        "    return \"C\"\n",
        "  elif(s<0.7 and s>=0.6):\n",
        "    return \"D\"\n",
        "  else:\n",
        "    return \"E\"\n",
        "\n",
        "i=1\n",
        "while(i<=5):\n",
        "  s=float(input(\"Enter score b/w 0.0 and 1.0:\"))\n",
        "  print(grade(s))\n",
        "  i+=1"
      ],
      "metadata": {
        "colab": {
          "base_uri": "https://localhost:8080/"
        },
        "id": "jZtq6UGZn_pc",
        "outputId": "ba9d0f2f-2aea-44ee-dd8b-06be105a00c4"
      },
      "execution_count": 11,
      "outputs": [
        {
          "output_type": "stream",
          "name": "stdout",
          "text": [
            "Enter score b/w 0.0 and 1.0:0.95\n",
            "A\n",
            "Enter score b/w 0.0 and 1.0:10.0\n",
            "Bad score\n",
            "Enter score b/w 0.0 and 1.0:0.75\n",
            "C\n",
            "Enter score b/w 0.0 and 1.0:41\n",
            "Bad score\n",
            "Enter score b/w 0.0 and 1.0:0.5\n",
            "E\n"
          ]
        }
      ]
    },
    {
      "cell_type": "markdown",
      "source": [
        "Q13"
      ],
      "metadata": {
        "id": "DvEAFdKYo7Gp"
      }
    },
    {
      "cell_type": "code",
      "source": [
        "tot=0\n",
        "count=0\n",
        "while(1):\n",
        "  c=str(input(\"Enter a number\"))\n",
        "  if(c=='done'):\n",
        "    print(tot,\" \",count,\" \",(tot/count))\n",
        "    break\n",
        "  elif(c==\"\"):\n",
        "    print(\"bad data Invalid input\")\n",
        "  else:\n",
        "    tot+=int(c)\n",
        "    count+=1\n",
        "\n"
      ],
      "metadata": {
        "colab": {
          "base_uri": "https://localhost:8080/"
        },
        "id": "rJFynLuuo-Dx",
        "outputId": "b3604f74-cf82-482e-e2f7-aaa41d3289c0"
      },
      "execution_count": 16,
      "outputs": [
        {
          "output_type": "stream",
          "name": "stdout",
          "text": [
            "Enter a number4\n",
            "Enter a number5\n",
            "Enter a number\n",
            "bad data Invalid input\n",
            "Enter a number6\n",
            "Enter a number7\n",
            "Enter a numberdone\n",
            "22   4   5.5\n"
          ]
        }
      ]
    },
    {
      "cell_type": "markdown",
      "source": [
        "Q14"
      ],
      "metadata": {
        "id": "S6XvMAgCsWXj"
      }
    },
    {
      "cell_type": "code",
      "source": [
        "lt=[]\n",
        "while(1):\n",
        "  c=str(input(\"Enter a number\"))\n",
        "  if(c=='done'):\n",
        "    print(\"max: \",max(lt),\"\\nmin: \",min(lt))\n",
        "    break\n",
        "  elif(c==\"\"):\n",
        "    print(\"bad data Invalid input\")\n",
        "  else:\n",
        "    lt.append(int(c))"
      ],
      "metadata": {
        "colab": {
          "base_uri": "https://localhost:8080/"
        },
        "id": "Vs1YmtjYsXsB",
        "outputId": "1537d3a7-6014-4240-ce94-82ceaddd9702"
      },
      "execution_count": 17,
      "outputs": [
        {
          "output_type": "stream",
          "name": "stdout",
          "text": [
            "Enter a number4\n",
            "Enter a number5\n",
            "Enter a number6\n",
            "Enter a number\n",
            "bad data Invalid input\n",
            "Enter a number7\n",
            "Enter a number9\n",
            "Enter a numberdone\n",
            "max:  9 \n",
            "min:  4\n"
          ]
        }
      ]
    },
    {
      "cell_type": "markdown",
      "source": [
        "Q15"
      ],
      "metadata": {
        "id": "58skVW-1tHsH"
      }
    },
    {
      "cell_type": "code",
      "source": [
        "def calc(lt,mul):\n",
        "  for i in lt:\n",
        "    mul*=i;\n",
        "  return mul\n",
        "\n",
        "mul=1\n",
        "lt=[5,6,7,8,9]\n",
        "print(\"product of all numbers in the list: \",calc(lt,mul))"
      ],
      "metadata": {
        "colab": {
          "base_uri": "https://localhost:8080/"
        },
        "id": "lAMy2EMQtKDV",
        "outputId": "e0dc0dd3-a13f-4694-8c11-051fdd243df5"
      },
      "execution_count": 22,
      "outputs": [
        {
          "output_type": "stream",
          "name": "stdout",
          "text": [
            "product of all numbers in the list:  15120\n"
          ]
        }
      ]
    },
    {
      "cell_type": "markdown",
      "source": [
        "Q16"
      ],
      "metadata": {
        "id": "XnZVqsNqtqGr"
      }
    },
    {
      "cell_type": "code",
      "source": [
        "def count(string):\n",
        "  up=0\n",
        "  low=0\n",
        "  for i in string:\n",
        "    if(i.isupper()):\n",
        "      up+=1\n",
        "    else:\n",
        "      low+=1\n",
        "  print(\"No.of uppercase letters: \",up,\"\\nNo.of lowercase letters: \",low)\n",
        "\n",
        "s=\"PytHoN\"\n",
        "count(s)"
      ],
      "metadata": {
        "colab": {
          "base_uri": "https://localhost:8080/"
        },
        "id": "yMdUADBJtq-W",
        "outputId": "f1580955-96f2-4835-98a2-ca218707f5a7"
      },
      "execution_count": 26,
      "outputs": [
        {
          "output_type": "stream",
          "name": "stdout",
          "text": [
            "No.of uppercase letters:  3 \n",
            "No.of lowercase letters:  3\n"
          ]
        }
      ]
    },
    {
      "cell_type": "markdown",
      "source": [
        "Q17"
      ],
      "metadata": {
        "id": "J468b_6FwP3Y"
      }
    },
    {
      "cell_type": "code",
      "source": [
        "def prime(n):\n",
        "  if(n>1):\n",
        "    for i in range(2,int(n/2)+1):\n",
        "      if(n%i==0):\n",
        "        print(n,\" is not prime\")\n",
        "        break\n",
        "    else:\n",
        "      print(n,\" is prime\")\n",
        "  else:\n",
        "    print(n,\" is not prime\")\n",
        "\n",
        "n=int(input(\"Enter number: \"))\n",
        "prime(n)"
      ],
      "metadata": {
        "colab": {
          "base_uri": "https://localhost:8080/"
        },
        "id": "v3a48JtzwQng",
        "outputId": "1ca897fe-78a8-4861-97d6-0d02b2803e9e"
      },
      "execution_count": 28,
      "outputs": [
        {
          "output_type": "stream",
          "name": "stdout",
          "text": [
            "Enter number: 5\n",
            "5  is prime\n"
          ]
        }
      ]
    },
    {
      "cell_type": "markdown",
      "source": [
        "Q18"
      ],
      "metadata": {
        "id": "ZSl_V8i5Bwpk"
      }
    },
    {
      "cell_type": "code",
      "source": [
        "def show_employee(name,sal=9000):\n",
        "  print(\"Name: \",name,\"Salary: \",sal)\n",
        "\n",
        "show_employee(\"ABC\",8500)\n",
        "show_employee(\"XYZ\")"
      ],
      "metadata": {
        "colab": {
          "base_uri": "https://localhost:8080/"
        },
        "id": "2KC1_lU1ByCg",
        "outputId": "4ea709e4-11be-4ed3-f8b7-59e8a51da1f3"
      },
      "execution_count": 29,
      "outputs": [
        {
          "output_type": "stream",
          "name": "stdout",
          "text": [
            "Name:  ABC Salary:  8500\n",
            "Name:  XYZ Salary:  9000\n"
          ]
        }
      ]
    },
    {
      "cell_type": "markdown",
      "source": [
        "Q19"
      ],
      "metadata": {
        "id": "i0TICeVNChCI"
      }
    },
    {
      "cell_type": "code",
      "source": [
        "def outer(a,b):\n",
        "  def inner():\n",
        "    return a+b\n",
        "  return 5+inner()\n",
        "\n",
        "print(outer(7,5))\n"
      ],
      "metadata": {
        "colab": {
          "base_uri": "https://localhost:8080/"
        },
        "id": "J79j8T_uCia1",
        "outputId": "2917062b-4972-40ef-e93e-9af08ade8865"
      },
      "execution_count": 30,
      "outputs": [
        {
          "output_type": "stream",
          "name": "stdout",
          "text": [
            "17\n"
          ]
        }
      ]
    },
    {
      "cell_type": "markdown",
      "source": [
        "Q20"
      ],
      "metadata": {
        "id": "BuTNpfQnDcJX"
      }
    },
    {
      "cell_type": "code",
      "source": [
        "def func1(*args):\n",
        "  for i in args:\n",
        "    print(i)\n",
        "\n",
        "func1(20,40,60,80)\n",
        "func1(70,50,120)"
      ],
      "metadata": {
        "colab": {
          "base_uri": "https://localhost:8080/"
        },
        "id": "bqYSUl3zDdMw",
        "outputId": "64b958ae-4e3b-45a7-8092-7348c3dfb0ce"
      },
      "execution_count": 31,
      "outputs": [
        {
          "output_type": "stream",
          "name": "stdout",
          "text": [
            "20\n",
            "40\n",
            "60\n",
            "80\n",
            "70\n",
            "50\n",
            "120\n"
          ]
        }
      ]
    }
  ]
}